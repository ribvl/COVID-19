{
 "cells": [
  {
   "cell_type": "markdown",
   "metadata": {},
   "source": [
    "## Exploração de dados do [Google Mobility](https://www.google.com/covid19/mobility/)"
   ]
  },
  {
   "cell_type": "markdown",
   "metadata": {},
   "source": [
    "#### Data Overview\n",
    "The Community Mobility Reports show movement trends by region, across different categories of places. For each category in a region, reports show the changes in 2 different ways:\n",
    "\n",
    "* Headline number: Compares mobility for the report date to the baseline day. Calculated percent change for the latest day (or report date), unless there are gaps. \n",
    "* Trend graph: The percent changes in the 6 weeks before the report date. Shown as a graph.\n",
    "\n",
    "If we didn't have enough data to confidently and anonymously estimate the change from the baseline, you’ll see gaps and the headline number is the most-recent calculated change.\n",
    "\n",
    "Avoid comparing places across regions. Regions can have local differences in the data which might mislead. Location accuracy and the understanding of categorized places varies from region to region, so we don’t recommend using this data to compare changes between countries, or between regions with different characteristics (e.g. rural versus urban areas).\n",
    "\n",
    "#### Baseline\n",
    "The data shows how visitors to (or time spent in) categorized places change compared to our baseline days. A baseline day represents a normal value for that day of the week. The baseline day is the median value from the 5‑week period Jan 3 – Feb 6, 2020. The datasets show trends over several months with the most recent data representing approximately 2-3 days ago—this is how long it takes to produce the datasets.\n",
    "\n",
    "For each region-category, the baseline isn’t a single value—it’s 7 individual values. The same number of visitors on 2 different days of the week, result in different percentage changes. So, we recommend the following:\n",
    "\n",
    "* Don’t infer that larger changes mean more visitors or smaller changes mean less visitors.\n",
    "* Avoid comparing day-to-day changes. Especially weekends with weekdays.\n",
    "\n",
    "How did we pick perfectly normal baseline days? We probably haven’t—a short period of the year can't represent normal for every region on our planet. We picked a recent period, before widespread disruption as communities responded to COVID-19. Even so, for some regions, the baseline falls during a time when COVID-19 was established. To interpret the data for your region, follow the [local checklist](https://support.google.com/covid19-mobility/checklist/9834261).\n",
    "\n",
    "To help you track week-to-week changes, the baseline days never change. These baseline days also don't account for seasonality. For example, visitors to parks typically increase as the weather improves.\n",
    "\n",
    "#### Place categories\n",
    "To make the reports useful, we use categories to group some of the places with similar characteristics for purposes of social distancing guidance. For example, we combine grocery and pharmacy as these tend to be considered essential trips. Each high-level category contains many types of places—some might not be obvious.\n",
    "* Grocery & pharmacy: Mobility trends for places like grocery markets, food warehouses, farmers markets, specialty food shops, drug stores, and pharmacies.\n",
    "* Parks: Mobility trends for places like local parks, national parks, public beaches, marinas, dog parks, plazas, and public gardens.\n",
    "* Transit stations: Mobility trends for places like public transport hubs such as subway, bus, and train stations.\n",
    "* Retail & recreation: Mobility trends for places like restaurants, cafes, shopping centers, theme parks, museums, libraries, and movie theaters.\n",
    "* Residential: Mobility trends for places of residence.\n",
    "* Workplaces: Mobility trends for places of work.\n",
    "\n",
    "#### Understand the data\n",
    "Gaps and spikes: You might see data gaps for some categories in your region. These gaps are intentional and happen because the data doesn’t meet the quality and privacy threshold—when there isn’t enough data to ensure anonymity.\n",
    "\n",
    "Expectations: Vacations and public holidays can help you understand what your community looks like when people don’t go to places of work.\n",
    "\n",
    "Small residential changes: The Residential category shows a change in duration—the other categories measure a change in total visitors. Because people already spend much of the day at places of residence (even on workdays), the capacity for change isn’t so large. **You shouldn’t compare the change in Residential with other categories because they have different units of measurement.**\n",
    "\n",
    "Weekends: Remember that these mobility reports show relative changes, and not absolute visitors or duration. For example, if few people normally visit places of work on a Sunday, you wouldn’t expect to see large changes to Sunday visitors as your community responds to COVID-19.\n",
    "\n",
    "### Publishing\n",
    "If you publish results based on this data set, please cite as:\n",
    "\n",
    "Google LLC \"Google COVID-19 Community Mobility Reports\".\n",
    "https://www.google.com/covid19/mobility/ Accessed: <Date>."
   ]
  },
  {
   "cell_type": "code",
   "execution_count": 1,
   "metadata": {},
   "outputs": [],
   "source": [
    "from datetime import date\n",
    "import os\n",
    "import re\n",
    "import pandas as pd\n",
    "import numpy as np\n",
    "import matplotlib.pyplot as plt\n",
    "import matplotlib.dates as mdates\n",
    "from matplotlib.ticker import FormatStrFormatter\n",
    "import seaborn as sns\n",
    "from ipywidgets import interact\n",
    "\n",
    "%matplotlib inline\n",
    "sns.set_style('whitegrid')\n",
    "\n",
    "pd.set_option('display.max_rows', 150)"
   ]
  },
  {
   "cell_type": "code",
   "execution_count": 2,
   "metadata": {},
   "outputs": [
    {
     "data": {
      "text/plain": [
       "'03/06/20'"
      ]
     },
     "execution_count": 2,
     "metadata": {},
     "output_type": "execute_result"
    }
   ],
   "source": [
    "date.today().strftime(\"%d/%m/%y\")"
   ]
  },
  {
   "cell_type": "markdown",
   "metadata": {},
   "source": [
    "Mobility dataframe data from 'retail_and_recreation', 'grocery_and_pharmacy', 'parks', 'transit_stations', 'workplaces', 'residential' is percentage from baseline"
   ]
  },
  {
   "cell_type": "code",
   "execution_count": 3,
   "metadata": {},
   "outputs": [],
   "source": [
    "dtypes = {'country_region_code': 'object', 'country_region': 'object', 'sub_region_1': 'object', 'sub_region_2': 'object'}\n",
    "date_parser = lambda x: pd.datetime.strptime(x, '%Y-%m-%d')\n",
    "\n",
    "mobility = pd.read_csv(\"2020-05-29 - Global_Mobility_Report.csv\", dtype = dtypes, parse_dates=['date'], date_parser=date_parser)\n",
    "mobility = mobility.rename(columns=lambda i: re.sub('_percent_change_from_baseline','',i))"
   ]
  },
  {
   "cell_type": "code",
   "execution_count": 4,
   "metadata": {},
   "outputs": [
    {
     "name": "stdout",
     "output_type": "stream",
     "text": [
      "<class 'pandas.core.frame.DataFrame'>\n",
      "RangeIndex: 458565 entries, 0 to 458564\n",
      "Data columns (total 11 columns):\n",
      "country_region_code      457777 non-null object\n",
      "country_region           458565 non-null object\n",
      "sub_region_1             445233 non-null object\n",
      "sub_region_2             265611 non-null object\n",
      "date                     458565 non-null datetime64[ns]\n",
      "retail_and_recreation    358425 non-null float64\n",
      "grocery_and_pharmacy     345821 non-null float64\n",
      "parks                    212781 non-null float64\n",
      "transit_stations         244044 non-null float64\n",
      "workplaces               445735 non-null float64\n",
      "residential              251216 non-null float64\n",
      "dtypes: datetime64[ns](1), float64(6), object(4)\n",
      "memory usage: 38.5+ MB\n"
     ]
    }
   ],
   "source": [
    "mobility.info()"
   ]
  },
  {
   "cell_type": "code",
   "execution_count": 5,
   "metadata": {},
   "outputs": [
    {
     "data": {
      "text/html": [
       "<div>\n",
       "<style scoped>\n",
       "    .dataframe tbody tr th:only-of-type {\n",
       "        vertical-align: middle;\n",
       "    }\n",
       "\n",
       "    .dataframe tbody tr th {\n",
       "        vertical-align: top;\n",
       "    }\n",
       "\n",
       "    .dataframe thead th {\n",
       "        text-align: right;\n",
       "    }\n",
       "</style>\n",
       "<table border=\"1\" class=\"dataframe\">\n",
       "  <thead>\n",
       "    <tr style=\"text-align: right;\">\n",
       "      <th></th>\n",
       "      <th>country_region_code</th>\n",
       "      <th>country_region</th>\n",
       "      <th>sub_region_1</th>\n",
       "      <th>sub_region_2</th>\n",
       "      <th>date</th>\n",
       "      <th>retail_and_recreation</th>\n",
       "      <th>grocery_and_pharmacy</th>\n",
       "      <th>parks</th>\n",
       "      <th>transit_stations</th>\n",
       "      <th>workplaces</th>\n",
       "      <th>residential</th>\n",
       "    </tr>\n",
       "  </thead>\n",
       "  <tbody>\n",
       "    <tr>\n",
       "      <th>0</th>\n",
       "      <td>AE</td>\n",
       "      <td>United Arab Emirates</td>\n",
       "      <td>NaN</td>\n",
       "      <td>NaN</td>\n",
       "      <td>2020-02-15</td>\n",
       "      <td>0.0</td>\n",
       "      <td>4.0</td>\n",
       "      <td>5.0</td>\n",
       "      <td>0.0</td>\n",
       "      <td>2.0</td>\n",
       "      <td>1.0</td>\n",
       "    </tr>\n",
       "    <tr>\n",
       "      <th>1</th>\n",
       "      <td>AE</td>\n",
       "      <td>United Arab Emirates</td>\n",
       "      <td>NaN</td>\n",
       "      <td>NaN</td>\n",
       "      <td>2020-02-16</td>\n",
       "      <td>1.0</td>\n",
       "      <td>4.0</td>\n",
       "      <td>4.0</td>\n",
       "      <td>1.0</td>\n",
       "      <td>2.0</td>\n",
       "      <td>1.0</td>\n",
       "    </tr>\n",
       "    <tr>\n",
       "      <th>2</th>\n",
       "      <td>AE</td>\n",
       "      <td>United Arab Emirates</td>\n",
       "      <td>NaN</td>\n",
       "      <td>NaN</td>\n",
       "      <td>2020-02-17</td>\n",
       "      <td>-1.0</td>\n",
       "      <td>1.0</td>\n",
       "      <td>5.0</td>\n",
       "      <td>1.0</td>\n",
       "      <td>2.0</td>\n",
       "      <td>1.0</td>\n",
       "    </tr>\n",
       "  </tbody>\n",
       "</table>\n",
       "</div>"
      ],
      "text/plain": [
       "  country_region_code        country_region sub_region_1 sub_region_2  \\\n",
       "0                  AE  United Arab Emirates          NaN          NaN   \n",
       "1                  AE  United Arab Emirates          NaN          NaN   \n",
       "2                  AE  United Arab Emirates          NaN          NaN   \n",
       "\n",
       "        date  retail_and_recreation  grocery_and_pharmacy  parks  \\\n",
       "0 2020-02-15                    0.0                   4.0    5.0   \n",
       "1 2020-02-16                    1.0                   4.0    4.0   \n",
       "2 2020-02-17                   -1.0                   1.0    5.0   \n",
       "\n",
       "   transit_stations  workplaces  residential  \n",
       "0               0.0         2.0          1.0  \n",
       "1               1.0         2.0          1.0  \n",
       "2               1.0         2.0          1.0  "
      ]
     },
     "execution_count": 5,
     "metadata": {},
     "output_type": "execute_result"
    }
   ],
   "source": [
    "mobility.head(3)"
   ]
  },
  {
   "cell_type": "code",
   "execution_count": 9,
   "metadata": {},
   "outputs": [
    {
     "data": {
      "text/html": [
       "<div>\n",
       "<style scoped>\n",
       "    .dataframe tbody tr th:only-of-type {\n",
       "        vertical-align: middle;\n",
       "    }\n",
       "\n",
       "    .dataframe tbody tr th {\n",
       "        vertical-align: top;\n",
       "    }\n",
       "\n",
       "    .dataframe thead th {\n",
       "        text-align: right;\n",
       "    }\n",
       "</style>\n",
       "<table border=\"1\" class=\"dataframe\">\n",
       "  <thead>\n",
       "    <tr style=\"text-align: right;\">\n",
       "      <th></th>\n",
       "      <th>country_region</th>\n",
       "      <th>date</th>\n",
       "      <th>retail_and_recreation</th>\n",
       "      <th>grocery_and_pharmacy</th>\n",
       "      <th>parks</th>\n",
       "      <th>transit_stations</th>\n",
       "      <th>workplaces</th>\n",
       "      <th>residential</th>\n",
       "    </tr>\n",
       "  </thead>\n",
       "  <tbody>\n",
       "    <tr>\n",
       "      <th>0</th>\n",
       "      <td>Brazil</td>\n",
       "      <td>2020-02-15</td>\n",
       "      <td>5.0</td>\n",
       "      <td>4.0</td>\n",
       "      <td>-5.0</td>\n",
       "      <td>8.0</td>\n",
       "      <td>6.0</td>\n",
       "      <td>0.0</td>\n",
       "    </tr>\n",
       "    <tr>\n",
       "      <th>1</th>\n",
       "      <td>Brazil</td>\n",
       "      <td>2020-02-16</td>\n",
       "      <td>2.0</td>\n",
       "      <td>3.0</td>\n",
       "      <td>-13.0</td>\n",
       "      <td>3.0</td>\n",
       "      <td>0.0</td>\n",
       "      <td>1.0</td>\n",
       "    </tr>\n",
       "    <tr>\n",
       "      <th>2</th>\n",
       "      <td>Brazil</td>\n",
       "      <td>2020-02-17</td>\n",
       "      <td>-2.0</td>\n",
       "      <td>0.0</td>\n",
       "      <td>-12.0</td>\n",
       "      <td>9.0</td>\n",
       "      <td>19.0</td>\n",
       "      <td>-1.0</td>\n",
       "    </tr>\n",
       "    <tr>\n",
       "      <th>3</th>\n",
       "      <td>Brazil</td>\n",
       "      <td>2020-02-18</td>\n",
       "      <td>-3.0</td>\n",
       "      <td>-1.0</td>\n",
       "      <td>-11.0</td>\n",
       "      <td>9.0</td>\n",
       "      <td>15.0</td>\n",
       "      <td>-1.0</td>\n",
       "    </tr>\n",
       "    <tr>\n",
       "      <th>4</th>\n",
       "      <td>Brazil</td>\n",
       "      <td>2020-02-19</td>\n",
       "      <td>-1.0</td>\n",
       "      <td>-2.0</td>\n",
       "      <td>-5.0</td>\n",
       "      <td>8.0</td>\n",
       "      <td>14.0</td>\n",
       "      <td>-1.0</td>\n",
       "    </tr>\n",
       "  </tbody>\n",
       "</table>\n",
       "</div>"
      ],
      "text/plain": [
       "  country_region       date  retail_and_recreation  grocery_and_pharmacy  \\\n",
       "0         Brazil 2020-02-15                    5.0                   4.0   \n",
       "1         Brazil 2020-02-16                    2.0                   3.0   \n",
       "2         Brazil 2020-02-17                   -2.0                   0.0   \n",
       "3         Brazil 2020-02-18                   -3.0                  -1.0   \n",
       "4         Brazil 2020-02-19                   -1.0                  -2.0   \n",
       "\n",
       "   parks  transit_stations  workplaces  residential  \n",
       "0   -5.0               8.0         6.0          0.0  \n",
       "1  -13.0               3.0         0.0          1.0  \n",
       "2  -12.0               9.0        19.0         -1.0  \n",
       "3  -11.0               9.0        15.0         -1.0  \n",
       "4   -5.0               8.0        14.0         -1.0  "
      ]
     },
     "execution_count": 9,
     "metadata": {},
     "output_type": "execute_result"
    }
   ],
   "source": [
    "mob_br = mobility[(mobility['country_region'] == 'Brazil') & mobility['sub_region_1'].isna()].copy()\n",
    "mob_br.drop(['country_region_code', 'sub_region_1', 'sub_region_2'], axis=1, inplace=True)\n",
    "mob_br.reset_index(inplace=True, drop=True)\n",
    "mob_br.head()"
   ]
  },
  {
   "cell_type": "code",
   "execution_count": 14,
   "metadata": {},
   "outputs": [
    {
     "data": {
      "text/html": [
       "<div>\n",
       "<style scoped>\n",
       "    .dataframe tbody tr th:only-of-type {\n",
       "        vertical-align: middle;\n",
       "    }\n",
       "\n",
       "    .dataframe tbody tr th {\n",
       "        vertical-align: top;\n",
       "    }\n",
       "\n",
       "    .dataframe thead th {\n",
       "        text-align: right;\n",
       "    }\n",
       "</style>\n",
       "<table border=\"1\" class=\"dataframe\">\n",
       "  <thead>\n",
       "    <tr style=\"text-align: right;\">\n",
       "      <th></th>\n",
       "      <th>country_region</th>\n",
       "      <th>sub_region_1</th>\n",
       "      <th>date</th>\n",
       "      <th>retail_and_recreation</th>\n",
       "      <th>grocery_and_pharmacy</th>\n",
       "      <th>parks</th>\n",
       "      <th>transit_stations</th>\n",
       "      <th>workplaces</th>\n",
       "      <th>residential</th>\n",
       "    </tr>\n",
       "  </thead>\n",
       "  <tbody>\n",
       "    <tr>\n",
       "      <th>0</th>\n",
       "      <td>Brazil</td>\n",
       "      <td>Federal District</td>\n",
       "      <td>2020-02-15</td>\n",
       "      <td>10.0</td>\n",
       "      <td>7.0</td>\n",
       "      <td>-8.0</td>\n",
       "      <td>8.0</td>\n",
       "      <td>8.0</td>\n",
       "      <td>0.0</td>\n",
       "    </tr>\n",
       "    <tr>\n",
       "      <th>1</th>\n",
       "      <td>Brazil</td>\n",
       "      <td>Federal District</td>\n",
       "      <td>2020-02-16</td>\n",
       "      <td>11.0</td>\n",
       "      <td>6.0</td>\n",
       "      <td>-10.0</td>\n",
       "      <td>4.0</td>\n",
       "      <td>0.0</td>\n",
       "      <td>2.0</td>\n",
       "    </tr>\n",
       "    <tr>\n",
       "      <th>2</th>\n",
       "      <td>Brazil</td>\n",
       "      <td>Federal District</td>\n",
       "      <td>2020-02-17</td>\n",
       "      <td>2.0</td>\n",
       "      <td>4.0</td>\n",
       "      <td>-1.0</td>\n",
       "      <td>11.0</td>\n",
       "      <td>22.0</td>\n",
       "      <td>-2.0</td>\n",
       "    </tr>\n",
       "    <tr>\n",
       "      <th>3</th>\n",
       "      <td>Brazil</td>\n",
       "      <td>Federal District</td>\n",
       "      <td>2020-02-18</td>\n",
       "      <td>1.0</td>\n",
       "      <td>4.0</td>\n",
       "      <td>2.0</td>\n",
       "      <td>14.0</td>\n",
       "      <td>22.0</td>\n",
       "      <td>-2.0</td>\n",
       "    </tr>\n",
       "    <tr>\n",
       "      <th>4</th>\n",
       "      <td>Brazil</td>\n",
       "      <td>Federal District</td>\n",
       "      <td>2020-02-19</td>\n",
       "      <td>-2.0</td>\n",
       "      <td>0.0</td>\n",
       "      <td>-3.0</td>\n",
       "      <td>9.0</td>\n",
       "      <td>20.0</td>\n",
       "      <td>-2.0</td>\n",
       "    </tr>\n",
       "  </tbody>\n",
       "</table>\n",
       "</div>"
      ],
      "text/plain": [
       "  country_region      sub_region_1       date  retail_and_recreation  \\\n",
       "0         Brazil  Federal District 2020-02-15                   10.0   \n",
       "1         Brazil  Federal District 2020-02-16                   11.0   \n",
       "2         Brazil  Federal District 2020-02-17                    2.0   \n",
       "3         Brazil  Federal District 2020-02-18                    1.0   \n",
       "4         Brazil  Federal District 2020-02-19                   -2.0   \n",
       "\n",
       "   grocery_and_pharmacy  parks  transit_stations  workplaces  residential  \n",
       "0                   7.0   -8.0               8.0         8.0          0.0  \n",
       "1                   6.0  -10.0               4.0         0.0          2.0  \n",
       "2                   4.0   -1.0              11.0        22.0         -2.0  \n",
       "3                   4.0    2.0              14.0        22.0         -2.0  \n",
       "4                   0.0   -3.0               9.0        20.0         -2.0  "
      ]
     },
     "execution_count": 14,
     "metadata": {},
     "output_type": "execute_result"
    }
   ],
   "source": [
    "mob_states = mobility[(mobility['country_region'] == 'Brazil') & mobility['sub_region_1'].notna()].copy()\n",
    "mob_states.drop(['country_region_code', 'sub_region_2'], axis=1, inplace=True)\n",
    "mob_states.reset_index(inplace=True, drop=True)\n",
    "mob_states.head()"
   ]
  },
  {
   "cell_type": "code",
   "execution_count": 15,
   "metadata": {},
   "outputs": [
    {
     "data": {
      "text/plain": [
       "array(['Federal District', 'State of Acre', 'State of Alagoas',\n",
       "       'State of Amapá', 'State of Amazonas', 'State of Bahia',\n",
       "       'State of Ceará', 'State of Espírito Santo', 'State of Goiás',\n",
       "       'State of Maranhão', 'State of Mato Grosso',\n",
       "       'State of Mato Grosso do Sul', 'State of Minas Gerais',\n",
       "       'State of Pará', 'State of Paraíba', 'State of Paraná',\n",
       "       'State of Pernambuco', 'State of Piauí', 'State of Rio de Janeiro',\n",
       "       'State of Rio Grande do Norte', 'State of Rio Grande do Sul',\n",
       "       'State of Rondônia', 'State of Roraima', 'State of Santa Catarina',\n",
       "       'State of São Paulo', 'State of Sergipe', 'State of Tocantins'],\n",
       "      dtype=object)"
      ]
     },
     "execution_count": 15,
     "metadata": {},
     "output_type": "execute_result"
    }
   ],
   "source": [
    "mob_states['sub_region_1'].unique()"
   ]
  },
  {
   "cell_type": "code",
   "execution_count": 17,
   "metadata": {},
   "outputs": [
    {
     "data": {
      "text/plain": [
       "array(['Federal District', 'Acre', 'Alagoas', 'Amapá', 'Amazonas',\n",
       "       'Bahia', 'Ceará', 'Espírito Santo', 'Goiás', 'Maranhão',\n",
       "       'Mato Grosso', 'Mato Grosso do Sul', 'Minas Gerais', 'Pará',\n",
       "       'Paraíba', 'Paraná', 'Pernambuco', 'Piauí', 'Rio de Janeiro',\n",
       "       'Rio Grande do Norte', 'Rio Grande do Sul', 'Rondônia', 'Roraima',\n",
       "       'Santa Catarina', 'São Paulo', 'Sergipe', 'Tocantins'],\n",
       "      dtype=object)"
      ]
     },
     "execution_count": 17,
     "metadata": {},
     "output_type": "execute_result"
    }
   ],
   "source": [
    "mob_states['sub_region_1'] = mob_states['sub_region_1'].apply(lambda i: re.sub('State of ', '', i))\n",
    "mob_states['sub_region_1'].unique()"
   ]
  }
 ],
 "metadata": {
  "kernelspec": {
   "display_name": "Python 3.7.6 64-bit",
   "language": "python",
   "name": "python37664bitc5f2dc6a754f4e9fa106b4a4c6a03b22"
  },
  "language_info": {
   "codemirror_mode": {
    "name": "ipython",
    "version": 3
   },
   "file_extension": ".py",
   "mimetype": "text/x-python",
   "name": "python",
   "nbconvert_exporter": "python",
   "pygments_lexer": "ipython3",
   "version": "3.7.6"
  }
 },
 "nbformat": 4,
 "nbformat_minor": 4
}
